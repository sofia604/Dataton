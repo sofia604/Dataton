{
 "cells": [
  {
   "cell_type": "code",
   "execution_count": 1,
   "id": "53bf02fc",
   "metadata": {},
   "outputs": [],
   "source": [
    "import numpy as np\n",
    "import pandas as pd\n",
    "import seaborn as sns\n",
    "import matplotlib.pyplot as plt"
   ]
  },
  {
   "cell_type": "code",
   "execution_count": 2,
   "id": "9218d902",
   "metadata": {},
   "outputs": [],
   "source": [
    "df = pd.read_csv('../Data/exportaciones.csv', sep=';')"
   ]
  },
  {
   "cell_type": "markdown",
   "id": "da0c1cc7",
   "metadata": {},
   "source": [
    "## Data pre-procesing"
   ]
  },
  {
   "cell_type": "code",
   "execution_count": 3,
   "id": "e9f2d89e",
   "metadata": {
    "scrolled": true
   },
   "outputs": [
    {
     "data": {
      "text/html": [
       "<div>\n",
       "<style scoped>\n",
       "    .dataframe tbody tr th:only-of-type {\n",
       "        vertical-align: middle;\n",
       "    }\n",
       "\n",
       "    .dataframe tbody tr th {\n",
       "        vertical-align: top;\n",
       "    }\n",
       "\n",
       "    .dataframe thead th {\n",
       "        text-align: right;\n",
       "    }\n",
       "</style>\n",
       "<table border=\"1\" class=\"dataframe\">\n",
       "  <thead>\n",
       "    <tr style=\"text-align: right;\">\n",
       "      <th></th>\n",
       "      <th>AÑO</th>\n",
       "      <th>MES</th>\n",
       "      <th>SECTOR</th>\n",
       "      <th>PAIS</th>\n",
       "      <th>FOB (MILES USD)</th>\n",
       "      <th>TONELADAS</th>\n",
       "    </tr>\n",
       "  </thead>\n",
       "  <tbody>\n",
       "    <tr>\n",
       "      <th>0</th>\n",
       "      <td>2017</td>\n",
       "      <td>1</td>\n",
       "      <td>ACUACULTURA</td>\n",
       "      <td>ALBANIA</td>\n",
       "      <td>384.61980</td>\n",
       "      <td>65.7800</td>\n",
       "    </tr>\n",
       "    <tr>\n",
       "      <th>1</th>\n",
       "      <td>2017</td>\n",
       "      <td>1</td>\n",
       "      <td>ACUACULTURA</td>\n",
       "      <td>ALEMANIA</td>\n",
       "      <td>2081.33714</td>\n",
       "      <td>203.3293</td>\n",
       "    </tr>\n",
       "    <tr>\n",
       "      <th>2</th>\n",
       "      <td>2017</td>\n",
       "      <td>1</td>\n",
       "      <td>ACUACULTURA</td>\n",
       "      <td>ARABIA SAUDITA</td>\n",
       "      <td>498.39136</td>\n",
       "      <td>40.6728</td>\n",
       "    </tr>\n",
       "    <tr>\n",
       "      <th>3</th>\n",
       "      <td>2017</td>\n",
       "      <td>1</td>\n",
       "      <td>ACUACULTURA</td>\n",
       "      <td>ARGENTINA</td>\n",
       "      <td>42.32840</td>\n",
       "      <td>4.0000</td>\n",
       "    </tr>\n",
       "    <tr>\n",
       "      <th>4</th>\n",
       "      <td>2017</td>\n",
       "      <td>1</td>\n",
       "      <td>ACUACULTURA</td>\n",
       "      <td>BÉLGICA</td>\n",
       "      <td>1718.90932</td>\n",
       "      <td>190.0052</td>\n",
       "    </tr>\n",
       "    <tr>\n",
       "      <th>...</th>\n",
       "      <td>...</td>\n",
       "      <td>...</td>\n",
       "      <td>...</td>\n",
       "      <td>...</td>\n",
       "      <td>...</td>\n",
       "      <td>...</td>\n",
       "    </tr>\n",
       "    <tr>\n",
       "      <th>52421</th>\n",
       "      <td>2022</td>\n",
       "      <td>8</td>\n",
       "      <td>ARTESANÍAS, SOMBREROS Y BOTONES DE TAGUA</td>\n",
       "      <td>TAILANDIA</td>\n",
       "      <td>2.44200</td>\n",
       "      <td>0.0180</td>\n",
       "    </tr>\n",
       "    <tr>\n",
       "      <th>52422</th>\n",
       "      <td>2022</td>\n",
       "      <td>8</td>\n",
       "      <td>ARTESANÍAS, SOMBREROS Y BOTONES DE TAGUA</td>\n",
       "      <td>TAIWÁN</td>\n",
       "      <td>0.78300</td>\n",
       "      <td>0.0016</td>\n",
       "    </tr>\n",
       "    <tr>\n",
       "      <th>52423</th>\n",
       "      <td>2022</td>\n",
       "      <td>8</td>\n",
       "      <td>ARTESANÍAS, SOMBREROS Y BOTONES DE TAGUA</td>\n",
       "      <td>TURQUÍA</td>\n",
       "      <td>169.51881</td>\n",
       "      <td>15.2750</td>\n",
       "    </tr>\n",
       "    <tr>\n",
       "      <th>52424</th>\n",
       "      <td>2022</td>\n",
       "      <td>8</td>\n",
       "      <td>ARTESANÍAS, SOMBREROS Y BOTONES DE TAGUA</td>\n",
       "      <td>URUGUAY</td>\n",
       "      <td>9.16761</td>\n",
       "      <td>0.1876</td>\n",
       "    </tr>\n",
       "    <tr>\n",
       "      <th>52425</th>\n",
       "      <td>2022</td>\n",
       "      <td>8</td>\n",
       "      <td>ARTESANÍAS, SOMBREROS Y BOTONES DE TAGUA</td>\n",
       "      <td>VÍRGENES DE LOS ESTADOS UNIDOS, ISLAS</td>\n",
       "      <td>0.49500</td>\n",
       "      <td>0.1063</td>\n",
       "    </tr>\n",
       "  </tbody>\n",
       "</table>\n",
       "<p>52426 rows × 6 columns</p>\n",
       "</div>"
      ],
      "text/plain": [
       "        AÑO  MES                                    SECTOR  \\\n",
       "0      2017    1                               ACUACULTURA   \n",
       "1      2017    1                               ACUACULTURA   \n",
       "2      2017    1                               ACUACULTURA   \n",
       "3      2017    1                               ACUACULTURA   \n",
       "4      2017    1                               ACUACULTURA   \n",
       "...     ...  ...                                       ...   \n",
       "52421  2022    8  ARTESANÍAS, SOMBREROS Y BOTONES DE TAGUA   \n",
       "52422  2022    8  ARTESANÍAS, SOMBREROS Y BOTONES DE TAGUA   \n",
       "52423  2022    8  ARTESANÍAS, SOMBREROS Y BOTONES DE TAGUA   \n",
       "52424  2022    8  ARTESANÍAS, SOMBREROS Y BOTONES DE TAGUA   \n",
       "52425  2022    8  ARTESANÍAS, SOMBREROS Y BOTONES DE TAGUA   \n",
       "\n",
       "                                        PAIS  FOB (MILES USD)  TONELADAS  \n",
       "0                                    ALBANIA        384.61980    65.7800  \n",
       "1                                   ALEMANIA       2081.33714   203.3293  \n",
       "2                             ARABIA SAUDITA        498.39136    40.6728  \n",
       "3                                  ARGENTINA         42.32840     4.0000  \n",
       "4                                    BÉLGICA       1718.90932   190.0052  \n",
       "...                                      ...              ...        ...  \n",
       "52421                              TAILANDIA          2.44200     0.0180  \n",
       "52422                                 TAIWÁN          0.78300     0.0016  \n",
       "52423                                TURQUÍA        169.51881    15.2750  \n",
       "52424                                URUGUAY          9.16761     0.1876  \n",
       "52425  VÍRGENES DE LOS ESTADOS UNIDOS, ISLAS          0.49500     0.1063  \n",
       "\n",
       "[52426 rows x 6 columns]"
      ]
     },
     "execution_count": 3,
     "metadata": {},
     "output_type": "execute_result"
    }
   ],
   "source": [
    "df"
   ]
  },
  {
   "cell_type": "code",
   "execution_count": 4,
   "id": "86c09a07",
   "metadata": {},
   "outputs": [],
   "source": [
    "df.columns = ['YEAR', 'MONTH', 'SECTOR', 'COUNTRY', 'FOB', 'TONS']"
   ]
  },
  {
   "cell_type": "code",
   "execution_count": 5,
   "id": "d2b98c7a",
   "metadata": {},
   "outputs": [
    {
     "data": {
      "text/plain": [
       "188"
      ]
     },
     "execution_count": 5,
     "metadata": {},
     "output_type": "execute_result"
    }
   ],
   "source": [
    "df['COUNTRY'].nunique()"
   ]
  },
  {
   "cell_type": "code",
   "execution_count": 6,
   "id": "9d996ffb",
   "metadata": {},
   "outputs": [],
   "source": [
    "# Columns YEAR y MONTH are transformed to DATE format\n",
    "df['DATE'] = df['MONTH'].astype(\"str\") + \"-\" + df['YEAR'].astype(\"str\")\n",
    "df['DATE'] = pd.to_datetime(df['DATE'])\n",
    "df.drop(columns=['YEAR', 'MONTH'], inplace=True)"
   ]
  },
  {
   "cell_type": "code",
   "execution_count": 7,
   "id": "d5ac3008",
   "metadata": {},
   "outputs": [
    {
     "name": "stdout",
     "output_type": "stream",
     "text": [
      "<class 'pandas.core.frame.DataFrame'>\n",
      "RangeIndex: 52426 entries, 0 to 52425\n",
      "Data columns (total 5 columns):\n",
      " #   Column   Non-Null Count  Dtype         \n",
      "---  ------   --------------  -----         \n",
      " 0   SECTOR   52426 non-null  object        \n",
      " 1   COUNTRY  52426 non-null  object        \n",
      " 2   FOB      52426 non-null  float64       \n",
      " 3   TONS     52426 non-null  float64       \n",
      " 4   DATE     52426 non-null  datetime64[ns]\n",
      "dtypes: datetime64[ns](1), float64(2), object(2)\n",
      "memory usage: 2.0+ MB\n"
     ]
    }
   ],
   "source": [
    "df.info()"
   ]
  },
  {
   "cell_type": "code",
   "execution_count": 8,
   "id": "8ed192d4",
   "metadata": {},
   "outputs": [],
   "source": [
    "df['FOB'] = (df['FOB'] * 1000).round()"
   ]
  },
  {
   "cell_type": "code",
   "execution_count": 9,
   "id": "43987ae2",
   "metadata": {},
   "outputs": [
    {
     "data": {
      "text/html": [
       "<div>\n",
       "<style scoped>\n",
       "    .dataframe tbody tr th:only-of-type {\n",
       "        vertical-align: middle;\n",
       "    }\n",
       "\n",
       "    .dataframe tbody tr th {\n",
       "        vertical-align: top;\n",
       "    }\n",
       "\n",
       "    .dataframe thead th {\n",
       "        text-align: right;\n",
       "    }\n",
       "</style>\n",
       "<table border=\"1\" class=\"dataframe\">\n",
       "  <thead>\n",
       "    <tr style=\"text-align: right;\">\n",
       "      <th></th>\n",
       "      <th>FOB</th>\n",
       "      <th>TONS</th>\n",
       "    </tr>\n",
       "  </thead>\n",
       "  <tbody>\n",
       "    <tr>\n",
       "      <th>count</th>\n",
       "      <td>5.242600e+04</td>\n",
       "      <td>52426.000000</td>\n",
       "    </tr>\n",
       "    <tr>\n",
       "      <th>mean</th>\n",
       "      <td>1.628506e+06</td>\n",
       "      <td>1226.371613</td>\n",
       "    </tr>\n",
       "    <tr>\n",
       "      <th>std</th>\n",
       "      <td>8.626978e+06</td>\n",
       "      <td>6584.962546</td>\n",
       "    </tr>\n",
       "    <tr>\n",
       "      <th>min</th>\n",
       "      <td>0.000000e+00</td>\n",
       "      <td>0.000001</td>\n",
       "    </tr>\n",
       "    <tr>\n",
       "      <th>25%</th>\n",
       "      <td>1.524425e+04</td>\n",
       "      <td>1.820470</td>\n",
       "    </tr>\n",
       "    <tr>\n",
       "      <th>50%</th>\n",
       "      <td>1.076460e+05</td>\n",
       "      <td>36.073935</td>\n",
       "    </tr>\n",
       "    <tr>\n",
       "      <th>75%</th>\n",
       "      <td>5.965105e+05</td>\n",
       "      <td>251.184972</td>\n",
       "    </tr>\n",
       "    <tr>\n",
       "      <th>max</th>\n",
       "      <td>3.384990e+08</td>\n",
       "      <td>168954.503200</td>\n",
       "    </tr>\n",
       "  </tbody>\n",
       "</table>\n",
       "</div>"
      ],
      "text/plain": [
       "                FOB           TONS\n",
       "count  5.242600e+04   52426.000000\n",
       "mean   1.628506e+06    1226.371613\n",
       "std    8.626978e+06    6584.962546\n",
       "min    0.000000e+00       0.000001\n",
       "25%    1.524425e+04       1.820470\n",
       "50%    1.076460e+05      36.073935\n",
       "75%    5.965105e+05     251.184972\n",
       "max    3.384990e+08  168954.503200"
      ]
     },
     "execution_count": 9,
     "metadata": {},
     "output_type": "execute_result"
    }
   ],
   "source": [
    "df.describe()"
   ]
  },
  {
   "cell_type": "markdown",
   "id": "aeddd91a",
   "metadata": {},
   "source": [
    "Each year is sliced between January and August, since the current year 2022 has not finished yet and this is necessary to compare them each other."
   ]
  },
  {
   "cell_type": "code",
   "execution_count": 10,
   "id": "ea2e3be4",
   "metadata": {},
   "outputs": [
    {
     "data": {
      "text/plain": [
       "(36738, 5)"
      ]
     },
     "execution_count": 10,
     "metadata": {},
     "output_type": "execute_result"
    }
   ],
   "source": [
    "df = df.loc[(pd.DatetimeIndex(df['DATE']).month >= 1) & (pd.DatetimeIndex(df['DATE']).month <= 8)]\n",
    "df.shape"
   ]
  },
  {
   "cell_type": "markdown",
   "id": "220a72cd",
   "metadata": {},
   "source": [
    "## Data analysis"
   ]
  },
  {
   "cell_type": "markdown",
   "id": "ab6164d2",
   "metadata": {},
   "source": [
    "### Total exportation values per year"
   ]
  },
  {
   "cell_type": "code",
   "execution_count": 11,
   "id": "38a70efb",
   "metadata": {},
   "outputs": [
    {
     "data": {
      "text/html": [
       "<div>\n",
       "<style scoped>\n",
       "    .dataframe tbody tr th:only-of-type {\n",
       "        vertical-align: middle;\n",
       "    }\n",
       "\n",
       "    .dataframe tbody tr th {\n",
       "        vertical-align: top;\n",
       "    }\n",
       "\n",
       "    .dataframe thead th {\n",
       "        text-align: right;\n",
       "    }\n",
       "</style>\n",
       "<table border=\"1\" class=\"dataframe\">\n",
       "  <thead>\n",
       "    <tr style=\"text-align: right;\">\n",
       "      <th></th>\n",
       "      <th>DATE</th>\n",
       "      <th>FOB</th>\n",
       "    </tr>\n",
       "  </thead>\n",
       "  <tbody>\n",
       "    <tr>\n",
       "      <th>0</th>\n",
       "      <td>2017</td>\n",
       "      <td>8.0</td>\n",
       "    </tr>\n",
       "    <tr>\n",
       "      <th>1</th>\n",
       "      <td>2018</td>\n",
       "      <td>8.5</td>\n",
       "    </tr>\n",
       "    <tr>\n",
       "      <th>2</th>\n",
       "      <td>2019</td>\n",
       "      <td>8.9</td>\n",
       "    </tr>\n",
       "    <tr>\n",
       "      <th>3</th>\n",
       "      <td>2020</td>\n",
       "      <td>9.7</td>\n",
       "    </tr>\n",
       "    <tr>\n",
       "      <th>4</th>\n",
       "      <td>2021</td>\n",
       "      <td>11.0</td>\n",
       "    </tr>\n",
       "    <tr>\n",
       "      <th>5</th>\n",
       "      <td>2022</td>\n",
       "      <td>14.1</td>\n",
       "    </tr>\n",
       "  </tbody>\n",
       "</table>\n",
       "</div>"
      ],
      "text/plain": [
       "   DATE   FOB\n",
       "0  2017   8.0\n",
       "1  2018   8.5\n",
       "2  2019   8.9\n",
       "3  2020   9.7\n",
       "4  2021  11.0\n",
       "5  2022  14.1"
      ]
     },
     "execution_count": 11,
     "metadata": {},
     "output_type": "execute_result"
    }
   ],
   "source": [
    "df_anual = df.groupby(pd.Grouper(key=\"DATE\",freq=\"Y\"))[\"FOB\"].sum().reset_index()\n",
    "df_anual['FOB'] = (df_anual['FOB'] / 1e+09).round(1)\n",
    "df_anual['DATE'] = pd.DatetimeIndex(df_anual['DATE']).year\n",
    "df_anual"
   ]
  },
  {
   "cell_type": "code",
   "execution_count": 36,
   "id": "147f0659",
   "metadata": {
    "scrolled": false
   },
   "outputs": [
    {
     "data": {
      "image/png": "[encoded data removed]",
      "text/plain": [
       "<Figure size 864x576 with 1 Axes>"
      ]
     },
     "metadata": {},
     "output_type": "display_data"
    }
   ],
   "source": [
    "sns.set_theme(style=\"darkgrid\")\n",
    "sns.set(font_scale=1.5)\n",
    "fig,ax = plt.subplots(figsize=(12,8))\n",
    "sns.lineplot(data=df_anual, x = \"DATE\", y = \"FOB\",ax = ax, marker = \"o\")\n",
    "_=ax.set_title(\"Total exportation values (million USD) per year\")"
   ]
  },
  {
   "cell_type": "markdown",
   "id": "3837e182",
   "metadata": {},
   "source": [
    "### Total exportation values (million USD) per sector"
   ]
  },
  {
   "cell_type": "code",
   "execution_count": 13,
   "id": "7f872245",
   "metadata": {},
   "outputs": [
    {
     "data": {
      "text/html": [
       "<div>\n",
       "<style scoped>\n",
       "    .dataframe tbody tr th:only-of-type {\n",
       "        vertical-align: middle;\n",
       "    }\n",
       "\n",
       "    .dataframe tbody tr th {\n",
       "        vertical-align: top;\n",
       "    }\n",
       "\n",
       "    .dataframe thead th {\n",
       "        text-align: right;\n",
       "    }\n",
       "</style>\n",
       "<table border=\"1\" class=\"dataframe\">\n",
       "  <thead>\n",
       "    <tr style=\"text-align: right;\">\n",
       "      <th></th>\n",
       "      <th>SECTOR</th>\n",
       "      <th>FOB</th>\n",
       "    </tr>\n",
       "  </thead>\n",
       "  <tbody>\n",
       "    <tr>\n",
       "      <th>0</th>\n",
       "      <td>ACUACULTURA</td>\n",
       "      <td>17.2</td>\n",
       "    </tr>\n",
       "    <tr>\n",
       "      <th>1</th>\n",
       "      <td>BANANO Y PLÁTANO</td>\n",
       "      <td>13.6</td>\n",
       "    </tr>\n",
       "    <tr>\n",
       "      <th>2</th>\n",
       "      <td>PESCA</td>\n",
       "      <td>6.8</td>\n",
       "    </tr>\n",
       "    <tr>\n",
       "      <th>3</th>\n",
       "      <td>FLORES Y PLANTAS</td>\n",
       "      <td>3.7</td>\n",
       "    </tr>\n",
       "    <tr>\n",
       "      <th>4</th>\n",
       "      <td>OTROS</td>\n",
       "      <td>2.9</td>\n",
       "    </tr>\n",
       "    <tr>\n",
       "      <th>5</th>\n",
       "      <td>CACAO Y ELABORADOS</td>\n",
       "      <td>2.8</td>\n",
       "    </tr>\n",
       "    <tr>\n",
       "      <th>6</th>\n",
       "      <td>MINERÍA</td>\n",
       "      <td>2.7</td>\n",
       "    </tr>\n",
       "    <tr>\n",
       "      <th>7</th>\n",
       "      <td>METALMECÁNICO</td>\n",
       "      <td>2.3</td>\n",
       "    </tr>\n",
       "    <tr>\n",
       "      <th>8</th>\n",
       "      <td>FORESTAL Y PRODUCTOS ELABORADOS</td>\n",
       "      <td>2.2</td>\n",
       "    </tr>\n",
       "    <tr>\n",
       "      <th>9</th>\n",
       "      <td>AGROINDUSTRIA</td>\n",
       "      <td>2.0</td>\n",
       "    </tr>\n",
       "    <tr>\n",
       "      <th>10</th>\n",
       "      <td>ALIMENTOS PROCESADOS</td>\n",
       "      <td>1.7</td>\n",
       "    </tr>\n",
       "    <tr>\n",
       "      <th>11</th>\n",
       "      <td>PLÁSTICOS</td>\n",
       "      <td>0.6</td>\n",
       "    </tr>\n",
       "    <tr>\n",
       "      <th>12</th>\n",
       "      <td>FRUTAS NO TRADICIONALES</td>\n",
       "      <td>0.5</td>\n",
       "    </tr>\n",
       "    <tr>\n",
       "      <th>13</th>\n",
       "      <td>CAFÉ Y ELABORADOS</td>\n",
       "      <td>0.3</td>\n",
       "    </tr>\n",
       "    <tr>\n",
       "      <th>14</th>\n",
       "      <td>AUTOMOTRIZ</td>\n",
       "      <td>0.3</td>\n",
       "    </tr>\n",
       "    <tr>\n",
       "      <th>15</th>\n",
       "      <td>FARMACÉUTICO Y QUIMICO</td>\n",
       "      <td>0.2</td>\n",
       "    </tr>\n",
       "    <tr>\n",
       "      <th>16</th>\n",
       "      <td>CONFECCION Y TEXTIL</td>\n",
       "      <td>0.2</td>\n",
       "    </tr>\n",
       "    <tr>\n",
       "      <th>17</th>\n",
       "      <td>CUIDADO PERSONAL Y DEL HOGAR</td>\n",
       "      <td>0.2</td>\n",
       "    </tr>\n",
       "    <tr>\n",
       "      <th>18</th>\n",
       "      <td>CUERO Y CALZADO</td>\n",
       "      <td>0.1</td>\n",
       "    </tr>\n",
       "    <tr>\n",
       "      <th>19</th>\n",
       "      <td>ARTESANÍAS, SOMBREROS Y BOTONES DE TAGUA</td>\n",
       "      <td>0.1</td>\n",
       "    </tr>\n",
       "  </tbody>\n",
       "</table>\n",
       "</div>"
      ],
      "text/plain": [
       "                                      SECTOR   FOB\n",
       "0                                ACUACULTURA  17.2\n",
       "1                           BANANO Y PLÁTANO  13.6\n",
       "2                                      PESCA   6.8\n",
       "3                           FLORES Y PLANTAS   3.7\n",
       "4                                      OTROS   2.9\n",
       "5                         CACAO Y ELABORADOS   2.8\n",
       "6                                    MINERÍA   2.7\n",
       "7                              METALMECÁNICO   2.3\n",
       "8            FORESTAL Y PRODUCTOS ELABORADOS   2.2\n",
       "9                              AGROINDUSTRIA   2.0\n",
       "10                      ALIMENTOS PROCESADOS   1.7\n",
       "11                                 PLÁSTICOS   0.6\n",
       "12                   FRUTAS NO TRADICIONALES   0.5\n",
       "13                         CAFÉ Y ELABORADOS   0.3\n",
       "14                                AUTOMOTRIZ   0.3\n",
       "15                    FARMACÉUTICO Y QUIMICO   0.2\n",
       "16                       CONFECCION Y TEXTIL   0.2\n",
       "17              CUIDADO PERSONAL Y DEL HOGAR   0.2\n",
       "18                           CUERO Y CALZADO   0.1\n",
       "19  ARTESANÍAS, SOMBREROS Y BOTONES DE TAGUA   0.1"
      ]
     },
     "execution_count": 13,
     "metadata": {},
     "output_type": "execute_result"
    }
   ],
   "source": [
    "df_sectores = df.groupby(['SECTOR'])[\"FOB\"].sum().reset_index()\n",
    "df_sectores['FOB'] = (df_sectores['FOB'] / 1e+09).round(1)\n",
    "df_sectores = df_sectores.sort_values(by=\"FOB\", ascending = False).reset_index(drop=True)\n",
    "df_sectores"
   ]
  },
  {
   "cell_type": "code",
   "execution_count": 39,
   "id": "1beb6bde",
   "metadata": {},
   "outputs": [
    {
     "data": {
      "text/plain": [
       "<AxesSubplot:xlabel='FOB', ylabel='SECTOR'>"
      ]
     },
     "execution_count": 39,
     "metadata": {},
     "output_type": "execute_result"
    },
    {
     "data": {
      "image/png": "[encoded data removed]",
      "text/plain": [
       "<Figure size 576x576 with 1 Axes>"
      ]
     },
     "metadata": {},
     "output_type": "display_data"
    }
   ],
   "source": [
    "sns.set(font_scale=1)\n",
    "fig,ax = plt.subplots(figsize=(8,8))\n",
    "sns.barplot(data=df_sectores.head(10), x=\"FOB\", y=\"SECTOR\", ax=ax, palette=\"Accent\")"
   ]
  },
  {
   "cell_type": "markdown",
   "id": "5924cede",
   "metadata": {},
   "source": [
    "### Timeline of top 4 exportations "
   ]
  },
  {
   "cell_type": "code",
   "execution_count": 15,
   "id": "c9a2c7de",
   "metadata": {},
   "outputs": [
    {
     "data": {
      "text/html": [
       "<div>\n",
       "<style scoped>\n",
       "    .dataframe tbody tr th:only-of-type {\n",
       "        vertical-align: middle;\n",
       "    }\n",
       "\n",
       "    .dataframe tbody tr th {\n",
       "        vertical-align: top;\n",
       "    }\n",
       "\n",
       "    .dataframe thead th {\n",
       "        text-align: right;\n",
       "    }\n",
       "</style>\n",
       "<table border=\"1\" class=\"dataframe\">\n",
       "  <thead>\n",
       "    <tr style=\"text-align: right;\">\n",
       "      <th></th>\n",
       "      <th>SECTOR</th>\n",
       "      <th>DATE</th>\n",
       "      <th>FOB</th>\n",
       "    </tr>\n",
       "  </thead>\n",
       "  <tbody>\n",
       "    <tr>\n",
       "      <th>0</th>\n",
       "      <td>ACUACULTURA</td>\n",
       "      <td>2017</td>\n",
       "      <td>2.0</td>\n",
       "    </tr>\n",
       "    <tr>\n",
       "      <th>1</th>\n",
       "      <td>ACUACULTURA</td>\n",
       "      <td>2018</td>\n",
       "      <td>2.2</td>\n",
       "    </tr>\n",
       "    <tr>\n",
       "      <th>2</th>\n",
       "      <td>ACUACULTURA</td>\n",
       "      <td>2019</td>\n",
       "      <td>2.6</td>\n",
       "    </tr>\n",
       "    <tr>\n",
       "      <th>3</th>\n",
       "      <td>ACUACULTURA</td>\n",
       "      <td>2020</td>\n",
       "      <td>2.5</td>\n",
       "    </tr>\n",
       "    <tr>\n",
       "      <th>4</th>\n",
       "      <td>ACUACULTURA</td>\n",
       "      <td>2021</td>\n",
       "      <td>3.2</td>\n",
       "    </tr>\n",
       "    <tr>\n",
       "      <th>...</th>\n",
       "      <td>...</td>\n",
       "      <td>...</td>\n",
       "      <td>...</td>\n",
       "    </tr>\n",
       "    <tr>\n",
       "      <th>115</th>\n",
       "      <td>PLÁSTICOS</td>\n",
       "      <td>2018</td>\n",
       "      <td>0.1</td>\n",
       "    </tr>\n",
       "    <tr>\n",
       "      <th>116</th>\n",
       "      <td>PLÁSTICOS</td>\n",
       "      <td>2019</td>\n",
       "      <td>0.1</td>\n",
       "    </tr>\n",
       "    <tr>\n",
       "      <th>117</th>\n",
       "      <td>PLÁSTICOS</td>\n",
       "      <td>2020</td>\n",
       "      <td>0.1</td>\n",
       "    </tr>\n",
       "    <tr>\n",
       "      <th>118</th>\n",
       "      <td>PLÁSTICOS</td>\n",
       "      <td>2021</td>\n",
       "      <td>0.1</td>\n",
       "    </tr>\n",
       "    <tr>\n",
       "      <th>119</th>\n",
       "      <td>PLÁSTICOS</td>\n",
       "      <td>2022</td>\n",
       "      <td>0.2</td>\n",
       "    </tr>\n",
       "  </tbody>\n",
       "</table>\n",
       "<p>120 rows × 3 columns</p>\n",
       "</div>"
      ],
      "text/plain": [
       "          SECTOR  DATE  FOB\n",
       "0    ACUACULTURA  2017  2.0\n",
       "1    ACUACULTURA  2018  2.2\n",
       "2    ACUACULTURA  2019  2.6\n",
       "3    ACUACULTURA  2020  2.5\n",
       "4    ACUACULTURA  2021  3.2\n",
       "..           ...   ...  ...\n",
       "115    PLÁSTICOS  2018  0.1\n",
       "116    PLÁSTICOS  2019  0.1\n",
       "117    PLÁSTICOS  2020  0.1\n",
       "118    PLÁSTICOS  2021  0.1\n",
       "119    PLÁSTICOS  2022  0.2\n",
       "\n",
       "[120 rows x 3 columns]"
      ]
     },
     "execution_count": 15,
     "metadata": {},
     "output_type": "execute_result"
    }
   ],
   "source": [
    "df_sec_y = df.groupby([\"SECTOR\", pd.Grouper(key=\"DATE\",freq=\"Y\")])[\"FOB\"].sum().reset_index()\n",
    "df_sec_y['DATE'] = pd.DatetimeIndex(df_sec_y['DATE']).year\n",
    "df_sec_y['FOB'] = (df_sec_y['FOB'] / 1e+09).round(1)\n",
    "df_sec_y"
   ]
  },
  {
   "cell_type": "code",
   "execution_count": 41,
   "id": "52ff0453",
   "metadata": {},
   "outputs": [
    {
     "data": {
      "image/png": "[encoded data removed]",
      "text/plain": [
       "<Figure size 864x576 with 1 Axes>"
      ]
     },
     "metadata": {},
     "output_type": "display_data"
    }
   ],
   "source": [
    "sns.set_theme(style=\"darkgrid\")\n",
    "sns.set(font_scale=1.5)\n",
    "fig,ax = plt.subplots(figsize=(12,8))\n",
    "df1 = df_sec_y[df_sec_y['SECTOR']==\"ACUACULTURA\"]\n",
    "sns.lineplot(data=df1, x = \"DATE\", y = \"FOB\",ax = ax, color=\"b\", label=\"Acuacultura\", linestyle=\"--\")\n",
    "df2 = df_sec_y[df_sec_y['SECTOR']==\"BANANO Y PLÁTANO\"]\n",
    "sns.lineplot(data=df2, x = \"DATE\", y = \"FOB\",ax = ax, color=\"r\", label=\"Banano\", linestyle=\"-.\")\n",
    "df3= df_sec_y[df_sec_y['SECTOR']==\"PESCA\"]\n",
    "sns.lineplot(data=df3, x = \"DATE\", y = \"FOB\",ax = ax, color=\"g\", label=\"Pesca\", linestyle=\":\")\n",
    "df4= df_sec_y[df_sec_y['SECTOR']==\"FLORES Y PLANTAS\"]\n",
    "sns.lineplot(data=df4, x = \"DATE\", y = \"FOB\",ax = ax, color=\"y\", label=\"Flores\")\n",
    "_=ax.set_title(\"Top 4 exported products timeline\")"
   ]
  },
  {
   "cell_type": "markdown",
   "id": "393aa2b7",
   "metadata": {},
   "source": [
    "### Total exportation values per country"
   ]
  },
  {
   "cell_type": "code",
   "execution_count": 17,
   "id": "4fc2e733",
   "metadata": {},
   "outputs": [
    {
     "data": {
      "text/html": [
       "<div>\n",
       "<style scoped>\n",
       "    .dataframe tbody tr th:only-of-type {\n",
       "        vertical-align: middle;\n",
       "    }\n",
       "\n",
       "    .dataframe tbody tr th {\n",
       "        vertical-align: top;\n",
       "    }\n",
       "\n",
       "    .dataframe thead th {\n",
       "        text-align: right;\n",
       "    }\n",
       "</style>\n",
       "<table border=\"1\" class=\"dataframe\">\n",
       "  <thead>\n",
       "    <tr style=\"text-align: right;\">\n",
       "      <th></th>\n",
       "      <th>COUNTRY</th>\n",
       "      <th>FOB</th>\n",
       "    </tr>\n",
       "  </thead>\n",
       "  <tbody>\n",
       "    <tr>\n",
       "      <th>0</th>\n",
       "      <td>ESTADOS UNIDOS</td>\n",
       "      <td>12727062.4</td>\n",
       "    </tr>\n",
       "    <tr>\n",
       "      <th>1</th>\n",
       "      <td>CHINA</td>\n",
       "      <td>10070794.7</td>\n",
       "    </tr>\n",
       "    <tr>\n",
       "      <th>2</th>\n",
       "      <td>RUSIA</td>\n",
       "      <td>3528930.8</td>\n",
       "    </tr>\n",
       "    <tr>\n",
       "      <th>3</th>\n",
       "      <td>COLOMBIA</td>\n",
       "      <td>3291926.2</td>\n",
       "    </tr>\n",
       "    <tr>\n",
       "      <th>4</th>\n",
       "      <td>ESPAÑA</td>\n",
       "      <td>2644791.8</td>\n",
       "    </tr>\n",
       "    <tr>\n",
       "      <th>...</th>\n",
       "      <td>...</td>\n",
       "      <td>...</td>\n",
       "    </tr>\n",
       "    <tr>\n",
       "      <th>179</th>\n",
       "      <td>PACÍFICO, ISLAS DEL</td>\n",
       "      <td>4.6</td>\n",
       "    </tr>\n",
       "    <tr>\n",
       "      <th>180</th>\n",
       "      <td>SANTO TOMÉ Y PRÍNCIPE</td>\n",
       "      <td>4.0</td>\n",
       "    </tr>\n",
       "    <tr>\n",
       "      <th>181</th>\n",
       "      <td>TURCAS Y CAICOS, ISLAS</td>\n",
       "      <td>3.2</td>\n",
       "    </tr>\n",
       "    <tr>\n",
       "      <th>182</th>\n",
       "      <td>ANDORRA</td>\n",
       "      <td>1.1</td>\n",
       "    </tr>\n",
       "    <tr>\n",
       "      <th>183</th>\n",
       "      <td>NÍGER</td>\n",
       "      <td>0.0</td>\n",
       "    </tr>\n",
       "  </tbody>\n",
       "</table>\n",
       "<p>184 rows × 2 columns</p>\n",
       "</div>"
      ],
      "text/plain": [
       "                    COUNTRY         FOB\n",
       "0            ESTADOS UNIDOS  12727062.4\n",
       "1                     CHINA  10070794.7\n",
       "2                     RUSIA   3528930.8\n",
       "3                  COLOMBIA   3291926.2\n",
       "4                    ESPAÑA   2644791.8\n",
       "..                      ...         ...\n",
       "179     PACÍFICO, ISLAS DEL         4.6\n",
       "180   SANTO TOMÉ Y PRÍNCIPE         4.0\n",
       "181  TURCAS Y CAICOS, ISLAS         3.2\n",
       "182                 ANDORRA         1.1\n",
       "183                   NÍGER         0.0\n",
       "\n",
       "[184 rows x 2 columns]"
      ]
     },
     "execution_count": 17,
     "metadata": {},
     "output_type": "execute_result"
    }
   ],
   "source": [
    "df_COUNTRYes = df.groupby(['COUNTRY'])[\"FOB\"].sum().reset_index()\n",
    "df_COUNTRYes['FOB'] = (df_COUNTRYes['FOB'] / 1e+03).round(1)\n",
    "df_COUNTRYes = df_COUNTRYes.sort_values(by=\"FOB\", ascending = False).reset_index(drop=True)\n",
    "df_COUNTRYes"
   ]
  },
  {
   "cell_type": "code",
   "execution_count": 30,
   "id": "7416e5ee",
   "metadata": {},
   "outputs": [
    {
     "data": {
      "text/plain": [
       "<AxesSubplot:xlabel='FOB', ylabel='COUNTRY'>"
      ]
     },
     "execution_count": 30,
     "metadata": {},
     "output_type": "execute_result"
    },
    {
     "data": {
      "image/png": "[encoded data removed]",
      "text/plain": [
       "<Figure size 576x576 with 1 Axes>"
      ]
     },
     "metadata": {},
     "output_type": "display_data"
    }
   ],
   "source": [
    "fig,ax = plt.subplots(figsize=(8,8))\n",
    "sns.barplot(data=df_COUNTRYes.head(10), x=\"FOB\", y=\"COUNTRY\", ax=ax, palette=\"Accent\")"
   ]
  },
  {
   "cell_type": "markdown",
   "id": "bff04969",
   "metadata": {},
   "source": [
    "### TONS average for each commodity type"
   ]
  },
  {
   "cell_type": "code",
   "execution_count": 19,
   "id": "44d15dcd",
   "metadata": {},
   "outputs": [
    {
     "data": {
      "text/html": [
       "<div>\n",
       "<style scoped>\n",
       "    .dataframe tbody tr th:only-of-type {\n",
       "        vertical-align: middle;\n",
       "    }\n",
       "\n",
       "    .dataframe tbody tr th {\n",
       "        vertical-align: top;\n",
       "    }\n",
       "\n",
       "    .dataframe thead th {\n",
       "        text-align: right;\n",
       "    }\n",
       "</style>\n",
       "<table border=\"1\" class=\"dataframe\">\n",
       "  <thead>\n",
       "    <tr style=\"text-align: right;\">\n",
       "      <th></th>\n",
       "      <th>SECTOR</th>\n",
       "      <th>TONS</th>\n",
       "    </tr>\n",
       "  </thead>\n",
       "  <tbody>\n",
       "    <tr>\n",
       "      <th>0</th>\n",
       "      <td>BANANO Y PLÁTANO</td>\n",
       "      <td>9730.784341</td>\n",
       "    </tr>\n",
       "    <tr>\n",
       "      <th>1</th>\n",
       "      <td>MINERÍA</td>\n",
       "      <td>1947.663937</td>\n",
       "    </tr>\n",
       "    <tr>\n",
       "      <th>2</th>\n",
       "      <td>ACUACULTURA</td>\n",
       "      <td>1469.607481</td>\n",
       "    </tr>\n",
       "    <tr>\n",
       "      <th>3</th>\n",
       "      <td>FORESTAL Y PRODUCTOS ELABORADOS</td>\n",
       "      <td>1462.894533</td>\n",
       "    </tr>\n",
       "    <tr>\n",
       "      <th>4</th>\n",
       "      <td>AGROINDUSTRIA</td>\n",
       "      <td>1032.739233</td>\n",
       "    </tr>\n",
       "    <tr>\n",
       "      <th>5</th>\n",
       "      <td>METALMECÁNICO</td>\n",
       "      <td>768.820210</td>\n",
       "    </tr>\n",
       "    <tr>\n",
       "      <th>6</th>\n",
       "      <td>PESCA</td>\n",
       "      <td>726.256022</td>\n",
       "    </tr>\n",
       "    <tr>\n",
       "      <th>7</th>\n",
       "      <td>CACAO Y ELABORADOS</td>\n",
       "      <td>676.323990</td>\n",
       "    </tr>\n",
       "    <tr>\n",
       "      <th>8</th>\n",
       "      <td>ALIMENTOS PROCESADOS</td>\n",
       "      <td>423.826510</td>\n",
       "    </tr>\n",
       "    <tr>\n",
       "      <th>9</th>\n",
       "      <td>FRUTAS NO TRADICIONALES</td>\n",
       "      <td>376.701063</td>\n",
       "    </tr>\n",
       "    <tr>\n",
       "      <th>10</th>\n",
       "      <td>OTROS</td>\n",
       "      <td>360.287630</td>\n",
       "    </tr>\n",
       "    <tr>\n",
       "      <th>11</th>\n",
       "      <td>PLÁSTICOS</td>\n",
       "      <td>195.856059</td>\n",
       "    </tr>\n",
       "    <tr>\n",
       "      <th>12</th>\n",
       "      <td>FLORES Y PLANTAS</td>\n",
       "      <td>155.193502</td>\n",
       "    </tr>\n",
       "    <tr>\n",
       "      <th>13</th>\n",
       "      <td>AUTOMOTRIZ</td>\n",
       "      <td>112.961324</td>\n",
       "    </tr>\n",
       "    <tr>\n",
       "      <th>14</th>\n",
       "      <td>CUIDADO PERSONAL Y DEL HOGAR</td>\n",
       "      <td>109.920122</td>\n",
       "    </tr>\n",
       "    <tr>\n",
       "      <th>15</th>\n",
       "      <td>CAFÉ Y ELABORADOS</td>\n",
       "      <td>62.211334</td>\n",
       "    </tr>\n",
       "    <tr>\n",
       "      <th>16</th>\n",
       "      <td>CUERO Y CALZADO</td>\n",
       "      <td>33.991555</td>\n",
       "    </tr>\n",
       "    <tr>\n",
       "      <th>17</th>\n",
       "      <td>FARMACÉUTICO Y QUIMICO</td>\n",
       "      <td>28.340168</td>\n",
       "    </tr>\n",
       "    <tr>\n",
       "      <th>18</th>\n",
       "      <td>CONFECCION Y TEXTIL</td>\n",
       "      <td>24.397050</td>\n",
       "    </tr>\n",
       "    <tr>\n",
       "      <th>19</th>\n",
       "      <td>ARTESANÍAS, SOMBREROS Y BOTONES DE TAGUA</td>\n",
       "      <td>2.772192</td>\n",
       "    </tr>\n",
       "  </tbody>\n",
       "</table>\n",
       "</div>"
      ],
      "text/plain": [
       "                                      SECTOR         TONS\n",
       "0                           BANANO Y PLÁTANO  9730.784341\n",
       "1                                    MINERÍA  1947.663937\n",
       "2                                ACUACULTURA  1469.607481\n",
       "3            FORESTAL Y PRODUCTOS ELABORADOS  1462.894533\n",
       "4                              AGROINDUSTRIA  1032.739233\n",
       "5                              METALMECÁNICO   768.820210\n",
       "6                                      PESCA   726.256022\n",
       "7                         CACAO Y ELABORADOS   676.323990\n",
       "8                       ALIMENTOS PROCESADOS   423.826510\n",
       "9                    FRUTAS NO TRADICIONALES   376.701063\n",
       "10                                     OTROS   360.287630\n",
       "11                                 PLÁSTICOS   195.856059\n",
       "12                          FLORES Y PLANTAS   155.193502\n",
       "13                                AUTOMOTRIZ   112.961324\n",
       "14              CUIDADO PERSONAL Y DEL HOGAR   109.920122\n",
       "15                         CAFÉ Y ELABORADOS    62.211334\n",
       "16                           CUERO Y CALZADO    33.991555\n",
       "17                    FARMACÉUTICO Y QUIMICO    28.340168\n",
       "18                       CONFECCION Y TEXTIL    24.397050\n",
       "19  ARTESANÍAS, SOMBREROS Y BOTONES DE TAGUA     2.772192"
      ]
     },
     "execution_count": 19,
     "metadata": {},
     "output_type": "execute_result"
    }
   ],
   "source": [
    "df_ton = df.groupby(['SECTOR'])[\"TONS\"].mean().reset_index()\n",
    "df_ton = df_ton.sort_values(by=\"TONS\", ascending = False).reset_index(drop=True)\n",
    "df_ton"
   ]
  },
  {
   "cell_type": "code",
   "execution_count": 20,
   "id": "eee4acd3",
   "metadata": {
    "scrolled": true
   },
   "outputs": [
    {
     "data": {
      "text/plain": [
       "<AxesSubplot:xlabel='TONS', ylabel='SECTOR'>"
      ]
     },
     "execution_count": 20,
     "metadata": {},
     "output_type": "execute_result"
    },
    {
     "data": {
      "image/png": "[encoded data removed]",
      "text/plain": [
       "<Figure size 576x576 with 1 Axes>"
      ]
     },
     "metadata": {},
     "output_type": "display_data"
    }
   ],
   "source": [
    "sns.set_theme(style=\"darkgrid\")\n",
    "fig,ax = plt.subplots(figsize=(8,8))\n",
    "sns.barplot(data=df_ton.head(10), x=\"TONS\", y=\"SECTOR\", ax=ax)"
   ]
  },
  {
   "cell_type": "code",
   "execution_count": null,
   "id": "90613340",
   "metadata": {},
   "outputs": [],
   "source": []
  }
 ],
 "metadata": {
  "kernelspec": {
   "display_name": "Python 3",
   "language": "python",
   "name": "python3"
  },
  "language_info": {
   "codemirror_mode": {
    "name": "ipython",
    "version": 3
   },
   "file_extension": ".py",
   "mimetype": "text/x-python",
   "name": "python",
   "nbconvert_exporter": "python",
   "pygments_lexer": "ipython3",
   "version": "3.8.8"
  }
 },
 "nbformat": 4,
 "nbformat_minor": 5
}
